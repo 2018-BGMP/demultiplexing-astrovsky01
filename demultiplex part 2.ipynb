{
 "cells": [
  {
   "cell_type": "markdown",
   "metadata": {},
   "source": [
    "# Problem\n",
    "When doing flow-cell analysis of sequences, indices are added to identify sequences from specific samples. As multiple different samples are assessed simultaneously, indices are necessary to parse data from set to set. Unfortunatly, when flow cells are populated for analysis, occasionally \"index hopping\" occurs, when a DNA strand gets paired with an alternate index, misidentifying the strand."
   ]
  },
  {
   "cell_type": "markdown",
   "metadata": {},
   "source": [
    "# Output\n",
    "When demultiplexing, certain data is necessary for analysis. These data types are listed below:\n",
    "\n",
    "For each of the paired end reads:\n",
    "\n",
    "    Sequence\n",
    "    Quality score for sequence\n",
    "    index for sequence read\n",
    "    index quality scores\n",
    "List of reads where:\n",
    "\n",
    "    Indices don't match for the paired ends\n",
    "    Quality scores are insufficient\n",
    "    Index quality scores are insufficient"
   ]
  },
  {
   "cell_type": "markdown",
   "metadata": {},
   "source": [
    "# Unit Tests & Expected Results\n",
    "    Found on this repository"
   ]
  },
  {
   "cell_type": "markdown",
   "metadata": {},
   "source": [
    "# Pseudocode:\n",
    "\n",
    "    Open index file:\n",
    "        strip/split line by tabs\n",
    "        create dictionary of barcode to barcode name\n",
    "    Create array of arrays (call \"pairarray\"):\n",
    "        Identify sequence vs. index lines using OS and size\n",
    "        For each array in pairarray:\n",
    "            Sequence file, associated index file\n",
    "    Generate array of \"trash\" (for unknown indices) file names\n",
    "    Start incremental value called \"hopping\"\n",
    "    Open sets of index files and sequence files together at the same time.\n",
    "        For each set of four lines:\n",
    "            Save header string for sequence\n",
    "            Identify indexes\n",
    "            If indices don't match, have low quality or an \"N\", write out header, sequence, + and quality to associated trash files, then pass to next header\n",
    "                If they hadn't matched but have a good quality score, mark header in trash file\n",
    "            If indices didn't match, add 1 to hopping\n",
    "            Append index string to header\n",
    "            Append index string quality score to header\n",
    "            Check quality scores for sequences. If either have too-low averages, add a mark to the header for both\n",
    "            Write (new header, sequence, +, quality score) to file named using barcode library and which sequence is used\n",
    "        print: \"Properly matched: \", total lines in index files, \" Index hopping level: \", hopping / total lines in index files, \"%\", sep = \"\""
   ]
  },
  {
   "cell_type": "markdown",
   "metadata": {},
   "source": [
    "## High level functions:\n",
    "    getindex(file):\n",
    "        '''Generates dictionary of index names and sequences'''\n",
    "        opens files, splits and strips lines\n",
    "        Generates dictionary key and value from each line\n",
    "        returns: dictionary of indices\n",
    "    example:\n",
    "        file x = [A1    ACTG\n",
    "                  B1    CTGA]\n",
    "        returns:  {A1: ACTG\n",
    "                   B1: CTGA}\n",
    "    "
   ]
  },
  {
   "cell_type": "markdown",
   "metadata": {},
   "source": [
    "    obtain_files(folder):\n",
    "        '''Creates list of 2 element arrays, pairing off each index and sequence file'''\n",
    "        Opens folder, tests size of files.\n",
    "        First large file paired with first small file\n",
    "        Second large file paired with second small file\n",
    "        returns: array of lists, organized by read\n",
    "    example:\n",
    "        folder: [Read1, Index1, Index2, Read2]\n",
    "        returns: [[Read1, Index1], [Read2, Index2]]"
   ]
  },
  {
   "cell_type": "markdown",
   "metadata": {},
   "source": [
    "    match_index(index1, index2):\n",
    "        '''Reads both idices to see if they match'''\n",
    "        Tests to see if it's an index line\n",
    "        Compares indices\n",
    "        returns: boolean\n",
    "    example:\n",
    "        index 1: ACTG\n",
    "        Index 2: ACTG\n",
    "        returns: True"
   ]
  },
  {
   "cell_type": "markdown",
   "metadata": {},
   "source": [
    "    write_out(index, boolean):\n",
    "        '''Given an index and proof of match, writes out to files'''\n",
    "        index_file.write(header)\n",
    "        index_file.write(sequence)\n",
    "        index_file.write(spacer)\n",
    "        index_file.write(quality scores)\n",
    "        returns: null"
   ]
  },
  {
   "cell_type": "code",
   "execution_count": 1,
   "metadata": {},
   "outputs": [],
   "source": [
    "def convert_phred(letter):\n",
    "    \"\"\"Converts a single character into a phred score\"\"\"\n",
    "    letter = ord(letter)-33\n",
    "    return letter"
   ]
  },
  {
   "cell_type": "code",
   "execution_count": null,
   "metadata": {},
   "outputs": [],
   "source": []
  }
 ],
 "metadata": {
  "kernelspec": {
   "display_name": "Python 3",
   "language": "python",
   "name": "python3"
  },
  "language_info": {
   "codemirror_mode": {
    "name": "ipython",
    "version": 3
   },
   "file_extension": ".py",
   "mimetype": "text/x-python",
   "name": "python",
   "nbconvert_exporter": "python",
   "pygments_lexer": "ipython3",
   "version": "3.6.5"
  }
 },
 "nbformat": 4,
 "nbformat_minor": 2
}
